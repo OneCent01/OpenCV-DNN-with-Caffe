{
 "cells": [
  {
   "cell_type": "code",
   "execution_count": 1,
   "metadata": {},
   "outputs": [],
   "source": [
    "# IMPORTS\n",
    "import numpy as np\n",
    "import cv2\n",
    "\n",
    "# VARIABLES\n",
    "model = './model/res10_300x300_ssd_iter_140000.caffemodel'\n",
    "proto = './model/face_detect_prototxt.txt'\n"
   ]
  },
  {
   "cell_type": "code",
   "execution_count": 2,
   "metadata": {},
   "outputs": [],
   "source": [
    "# detect_face: \n",
    "#   Finds all posible bounded areas that could contain a face\n",
    "#   and draws a box around that area if the confidence in the prediction \n",
    "#   is above a certain threshols\n",
    "\n",
    "def detect_face(image_path, prototxt_path, model_path, min_confidence):\n",
    "    \n",
    "    # load our serialized model from disk\n",
    "    net = cv2.dnn.readNetFromCaffe(prototxt_path, model_path)\n",
    "    \n",
    "    # load the input image and construct an input blob for the image\n",
    "    # by resizing to a fixed 300x300 pixels and then normalizing it\n",
    "    image = None\n",
    "    if isinstance(image_path, str):\n",
    "        image = cv2.imread(image_path)\n",
    "    else: \n",
    "        image = image_path\n",
    "    \n",
    "    (h, w) = image.shape[:2]\n",
    "    blob = cv2.dnn.blobFromImage(cv2.resize(image, (300, 300)), 1.0,\n",
    "        (300, 300), (104.0, 177.0, 123.0))\n",
    "    \n",
    "    # process image through pretrained net to \n",
    "    # obtain detections and their confidence\n",
    "    net.setInput(blob)\n",
    "    detections_net = net.forward()\n",
    "    detections = detections_net[0][0]\n",
    "    \n",
    "    # loop over the detections\n",
    "    for i in range(0, detections_net.shape[2]):\n",
    "        # extract the confidence (i.e., probability) associated with the\n",
    "        # prediction\n",
    "        confidence = detections[i][2]\n",
    "    \n",
    "        # only display detections above specified confidence\n",
    "        if confidence > min_confidence:\n",
    "            # compute the (x, y)-coordinates of the bounding box\n",
    "            box = detections_net[0, 0, i, 3:7] * np.array([w, h, w, h])\n",
    "            (startX, startY, endX, endY) = box.astype(\"int\")\n",
    "     \n",
    "            # draw the bounding box of the face along and confidence\n",
    "            text = \"{:.2f}%\".format(confidence * 100)\n",
    "            y = startY - 10 if startY - 10 > 10 else startY + 10\n",
    "            cv2.rectangle(image, (startX, startY), (endX, endY),\n",
    "                (0, 0, 255), 2)\n",
    "            cv2.putText(image, text, (startX, y),\n",
    "                cv2.FONT_HERSHEY_SIMPLEX, 0.45, (0, 0, 255), 2)\n",
    "    return image"
   ]
  },
  {
   "cell_type": "code",
   "execution_count": 6,
   "metadata": {},
   "outputs": [],
   "source": [
    "def detect_video_faces(video_path, prototxt_path, model_path, min_confidence): \n",
    "    # provide a video processing API layer by passing\n",
    "    # it through openCV's VideoCapture class\n",
    "    vidcap = cv2.VideoCapture(video_path)\n",
    "    \n",
    "    fps = 30.0\n",
    "    width = int(vidcap.get(cv2.CAP_PROP_FRAME_WIDTH) + 0.5)\n",
    "    height = int(vidcap.get(cv2.CAP_PROP_FRAME_HEIGHT) + 0.5)\n",
    "    capsize = (width,height)\n",
    "    \n",
    "    # Define the codec and create VideoWriter Object\n",
    "    fourcc = cv2.VideoWriter_fourcc('m', 'p','4','v')\n",
    "    vout = cv2.VideoWriter()\n",
    "    vid_success = vout.open('output.mov', fourcc, fps, capsize, True)\n",
    "    if vid_success:\n",
    "        success,image = vidcap.read()\n",
    "        print('processing...')\n",
    "        while vid_success and success:\n",
    "            detected = detect_face(image, prototxt_path, model_path, min_confidence)\n",
    "            vout.write(detected)\n",
    "            success,image = vidcap.read()\n",
    "        \n",
    "        vout.release()\n",
    "        vidcap.release()\n",
    "        cv2.destroyAllWindows()\n",
    "        print('complete')"
   ]
  },
  {
   "cell_type": "code",
   "execution_count": 7,
   "metadata": {},
   "outputs": [
    {
     "name": "stdout",
     "output_type": "stream",
     "text": [
      "processing...\n",
      "complete\n"
     ]
    }
   ],
   "source": [
    "# IMAGE DETECTION FUNCTION USAGE\n",
    "# detected_image = detect_face('./testInputs/terry.jpg', proto, model, 0.5)\n",
    "# cv2.imshow(\"Output\", detected_image)\n",
    "# cv2.waitKey(0)\n",
    "\n",
    "# VIDEO DETECTION FUNCTION USAGE\n",
    "detect_video_faces('./testInputs/input.mov', proto, model, 0.2)"
   ]
  },
  {
   "cell_type": "code",
   "execution_count": null,
   "metadata": {},
   "outputs": [],
   "source": []
  }
 ],
 "metadata": {
  "kernelspec": {
   "display_name": "Python 3",
   "language": "python",
   "name": "python3"
  },
  "language_info": {
   "codemirror_mode": {
    "name": "ipython",
    "version": 3
   },
   "file_extension": ".py",
   "mimetype": "text/x-python",
   "name": "python",
   "nbconvert_exporter": "python",
   "pygments_lexer": "ipython3",
   "version": "3.7.4"
  }
 },
 "nbformat": 4,
 "nbformat_minor": 2
}
